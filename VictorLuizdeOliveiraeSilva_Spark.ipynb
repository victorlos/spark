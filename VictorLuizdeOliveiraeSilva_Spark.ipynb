{
  "nbformat": 4,
  "nbformat_minor": 0,
  "metadata": {
    "colab": {
      "provenance": []
    },
    "kernelspec": {
      "name": "python3",
      "display_name": "Python 3"
    },
    "language_info": {
      "name": "python"
    }
  },
  "cells": [
    {
      "cell_type": "markdown",
      "source": [
        "Instituto Infnet\n",
        "\n",
        "Disciplina Análise de dados com Spark\n",
        "\n",
        "Aluno: Victor Luiz de Oliveira e Silva"
      ],
      "metadata": {
        "id": "7U9P-GM1lkTT"
      }
    },
    {
      "cell_type": "code",
      "execution_count": 1,
      "metadata": {
        "colab": {
          "base_uri": "https://localhost:8080/"
        },
        "id": "YiRfy7DJo__A",
        "outputId": "1cfcaa6a-5215-4862-84e8-64cdc0ca8e58"
      },
      "outputs": [
        {
          "output_type": "stream",
          "name": "stdout",
          "text": [
            "Collecting pyspark\n",
            "  Downloading pyspark-3.5.0.tar.gz (316.9 MB)\n",
            "\u001b[2K     \u001b[90m━━━━━━━━━━━━━━━━━━━━━━━━━━━━━━━━━━━━━━━\u001b[0m \u001b[32m316.9/316.9 MB\u001b[0m \u001b[31m2.1 MB/s\u001b[0m eta \u001b[36m0:00:00\u001b[0m\n",
            "\u001b[?25h  Preparing metadata (setup.py) ... \u001b[?25l\u001b[?25hdone\n",
            "Requirement already satisfied: py4j==0.10.9.7 in /usr/local/lib/python3.10/dist-packages (from pyspark) (0.10.9.7)\n",
            "Building wheels for collected packages: pyspark\n",
            "  Building wheel for pyspark (setup.py) ... \u001b[?25l\u001b[?25hdone\n",
            "  Created wheel for pyspark: filename=pyspark-3.5.0-py2.py3-none-any.whl size=317425344 sha256=48bccb5ba727afdbb27ef8dfc32a3d98fabd259892d0f9b990edf081424cd912\n",
            "  Stored in directory: /root/.cache/pip/wheels/41/4e/10/c2cf2467f71c678cfc8a6b9ac9241e5e44a01940da8fbb17fc\n",
            "Successfully built pyspark\n",
            "Installing collected packages: pyspark\n",
            "Successfully installed pyspark-3.5.0\n"
          ]
        }
      ],
      "source": [
        "!pip install pyspark\n",
        "import pyspark"
      ]
    },
    {
      "cell_type": "code",
      "source": [
        "## Você só vai precisar dessa parte se fizer no Google Colab\n",
        "from google.colab import drive\n",
        "drive.mount('/content/drive')"
      ],
      "metadata": {
        "colab": {
          "base_uri": "https://localhost:8080/"
        },
        "id": "_U3oN-xqqoU8",
        "outputId": "f7f536d3-04fc-4e06-e7f6-9526ce443228"
      },
      "execution_count": 2,
      "outputs": [
        {
          "output_type": "stream",
          "name": "stdout",
          "text": [
            "Mounted at /content/drive\n"
          ]
        }
      ]
    },
    {
      "cell_type": "code",
      "source": [
        "#Importando bibliotecas necessárias\n",
        "from pyspark.sql import SparkSession\n",
        "from pyspark.sql.functions import count, desc , col, max, when, isnan, min, avg"
      ],
      "metadata": {
        "id": "V9ftv_10sJgO"
      },
      "execution_count": 3,
      "outputs": []
    },
    {
      "cell_type": "code",
      "source": [
        "#Criando sessão local no spark\n",
        "spark = SparkSession.builder.appName(\"Exercicio\").master('local[*]').getOrCreate()"
      ],
      "metadata": {
        "id": "gqABcHY-vdO-"
      },
      "execution_count": 4,
      "outputs": []
    },
    {
      "cell_type": "code",
      "source": [
        "#Carga primeiro de dois csv de dados de preço de combustível no Brasil\n",
        "df_1_semestre = spark.read.csv(path='drive/MyDrive/Arquivos/ca-2020-01.csv',header=True,inferSchema=True,sep = ';')"
      ],
      "metadata": {
        "id": "TfQSTy75v9kS"
      },
      "execution_count": 5,
      "outputs": []
    },
    {
      "cell_type": "code",
      "source": [
        "\n",
        "df_1_semestre.show(5)"
      ],
      "metadata": {
        "colab": {
          "base_uri": "https://localhost:8080/"
        },
        "id": "d2anXH4Sv9Xv",
        "outputId": "20aa70cb-a4b1-47e4-86b2-abb21413d43d"
      },
      "execution_count": 6,
      "outputs": [
        {
          "output_type": "stream",
          "name": "stdout",
          "text": [
            "+--------------+--------------+---------+--------------------+-------------------+--------------------+----------+-------------------+----------+---------+----------+--------------+--------------+---------------+-----------------+--------------------+\n",
            "|Regiao - Sigla|Estado - Sigla|Municipio|             Revenda|    CNPJ da Revenda|         Nome da Rua|Numero Rua|        Complemento|    Bairro|      Cep|   Produto|Data da Coleta|Valor de Venda|Valor de Compra|Unidade de Medida|            Bandeira|\n",
            "+--------------+--------------+---------+--------------------+-------------------+--------------------+----------+-------------------+----------+---------+----------+--------------+--------------+---------------+-----------------+--------------------+\n",
            "|            SE|            SP|GUARULHOS|AUTO POSTO SAKAMO...| 49.051.667/0001-02|RODOVIA PRESIDENT...|       S/N|KM 210,5-SENT SP/RJ|BONSUCESSO|07178-580|  GASOLINA|    03/01/2020|         4,399|           NULL|       R$ / litro|PETROBRAS DISTRIB...|\n",
            "|            SE|            SP|GUARULHOS|AUTO POSTO SAKAMO...| 49.051.667/0001-02|RODOVIA PRESIDENT...|       S/N|KM 210,5-SENT SP/RJ|BONSUCESSO|07178-580|    ETANOL|    03/01/2020|         3,199|           NULL|       R$ / litro|PETROBRAS DISTRIB...|\n",
            "|            SE|            SP|GUARULHOS|AUTO POSTO SAKAMO...| 49.051.667/0001-02|RODOVIA PRESIDENT...|       S/N|KM 210,5-SENT SP/RJ|BONSUCESSO|07178-580|DIESEL S10|    03/01/2020|         3,899|           NULL|       R$ / litro|PETROBRAS DISTRIB...|\n",
            "|            SE|            SP|GUARULHOS|AUTO POSTO SAKAMO...| 49.051.667/0001-02|RODOVIA PRESIDENT...|       S/N|KM 210,5-SENT SP/RJ|BONSUCESSO|07178-580|       GNV|    03/01/2020|         2,995|           NULL|          R$ / m³|PETROBRAS DISTRIB...|\n",
            "|            NE|            BA| SALVADOR|PETROBRAS DISTRIB...| 34.274.233/0015-08|   RUA EDISTIO PONDE|       474|               NULL|     STIEP|41770-395|  GASOLINA|    03/01/2020|          4,69|         4,1743|       R$ / litro|PETROBRAS DISTRIB...|\n",
            "+--------------+--------------+---------+--------------------+-------------------+--------------------+----------+-------------------+----------+---------+----------+--------------+--------------+---------------+-----------------+--------------------+\n",
            "only showing top 5 rows\n",
            "\n"
          ]
        }
      ]
    },
    {
      "cell_type": "code",
      "source": [
        "#Carga do segundo csv de preço de combustivel no Brasil\n",
        "df_2_semestre = spark.read.csv(path='drive/MyDrive/Arquivos/ca-2020-02.csv',header=True,inferSchema=True,sep = ';')"
      ],
      "metadata": {
        "id": "3oMgANcKxW1Q"
      },
      "execution_count": 7,
      "outputs": []
    },
    {
      "cell_type": "code",
      "source": [
        "df_2_semestre.show(5)"
      ],
      "metadata": {
        "colab": {
          "base_uri": "https://localhost:8080/"
        },
        "id": "WYTKVaK9xoPT",
        "outputId": "30ddc7a4-3392-4194-b61c-4c7c3b0bee78"
      },
      "execution_count": 8,
      "outputs": [
        {
          "output_type": "stream",
          "name": "stdout",
          "text": [
            "+--------------+--------------+---------+--------------------+-------------------+--------------------+----------+-----------+--------------+---------+----------+--------------+--------------+---------------+-----------------+--------------------+\n",
            "|Regiao - Sigla|Estado - Sigla|Municipio|             Revenda|    CNPJ da Revenda|         Nome da Rua|Numero Rua|Complemento|        Bairro|      Cep|   Produto|Data da Coleta|Valor de Venda|Valor de Compra|Unidade de Medida|            Bandeira|\n",
            "+--------------+--------------+---------+--------------------+-------------------+--------------------+----------+-----------+--------------+---------+----------+--------------+--------------+---------------+-----------------+--------------------+\n",
            "|            SE|            SP| SOROCABA|COMPETRO COMERCIO...| 00.003.188/0001-21|RUA HUMBERTO DE C...|       306|       NULL|JARDIM ZULMIRA|18061-000|  GASOLINA|    01/07/2020|         3,559|          3,253|       R$ / litro|              BRANCA|\n",
            "|            SE|            SP| SOROCABA|COMPETRO COMERCIO...| 00.003.188/0001-21|RUA HUMBERTO DE C...|       306|       NULL|JARDIM ZULMIRA|18061-000|    ETANOL|    01/07/2020|         2,329|         2,1193|       R$ / litro|              BRANCA|\n",
            "|            SE|            SP| SOROCABA|COMPETRO COMERCIO...| 00.003.188/0001-21|RUA HUMBERTO DE C...|       306|       NULL|JARDIM ZULMIRA|18061-000|DIESEL S10|    01/07/2020|         2,859|           NULL|       R$ / litro|              BRANCA|\n",
            "|            NE|            BA| SALVADOR|PETROBRAS DISTRIB...| 34.274.233/0015-08|   RUA EDISTIO PONDE|       474|       NULL|         STIEP|41770-395|  GASOLINA|    02/07/2020|          4,29|         3,7676|       R$ / litro|PETROBRAS DISTRIB...|\n",
            "|            NE|            BA| SALVADOR|PETROBRAS DISTRIB...| 34.274.233/0015-08|   RUA EDISTIO PONDE|       474|       NULL|         STIEP|41770-395|    ETANOL|    02/07/2020|          3,29|         2,6651|       R$ / litro|PETROBRAS DISTRIB...|\n",
            "+--------------+--------------+---------+--------------------+-------------------+--------------------+----------+-----------+--------------+---------+----------+--------------+--------------+---------------+-----------------+--------------------+\n",
            "only showing top 5 rows\n",
            "\n"
          ]
        }
      ]
    },
    {
      "cell_type": "code",
      "source": [
        "#Acrescentando os 2 dataframes um embaixo do outro.\n",
        "df_precos_2020 = df_1_semestre.union(df_2_semestre)\n",
        "df_precos_2020.show()"
      ],
      "metadata": {
        "colab": {
          "base_uri": "https://localhost:8080/"
        },
        "id": "1NDtbfYHxo36",
        "outputId": "ec38bb26-cac4-4161-aaa9-7aeced08c8df"
      },
      "execution_count": 9,
      "outputs": [
        {
          "output_type": "stream",
          "name": "stdout",
          "text": [
            "+--------------+--------------+---------------+--------------------+-------------------+--------------------+----------+-------------------+------------+---------+----------+--------------+--------------+---------------+-----------------+--------------------+\n",
            "|Regiao - Sigla|Estado - Sigla|      Municipio|             Revenda|    CNPJ da Revenda|         Nome da Rua|Numero Rua|        Complemento|      Bairro|      Cep|   Produto|Data da Coleta|Valor de Venda|Valor de Compra|Unidade de Medida|            Bandeira|\n",
            "+--------------+--------------+---------------+--------------------+-------------------+--------------------+----------+-------------------+------------+---------+----------+--------------+--------------+---------------+-----------------+--------------------+\n",
            "|            SE|            SP|      GUARULHOS|AUTO POSTO SAKAMO...| 49.051.667/0001-02|RODOVIA PRESIDENT...|       S/N|KM 210,5-SENT SP/RJ|  BONSUCESSO|07178-580|  GASOLINA|    03/01/2020|         4,399|           NULL|       R$ / litro|PETROBRAS DISTRIB...|\n",
            "|            SE|            SP|      GUARULHOS|AUTO POSTO SAKAMO...| 49.051.667/0001-02|RODOVIA PRESIDENT...|       S/N|KM 210,5-SENT SP/RJ|  BONSUCESSO|07178-580|    ETANOL|    03/01/2020|         3,199|           NULL|       R$ / litro|PETROBRAS DISTRIB...|\n",
            "|            SE|            SP|      GUARULHOS|AUTO POSTO SAKAMO...| 49.051.667/0001-02|RODOVIA PRESIDENT...|       S/N|KM 210,5-SENT SP/RJ|  BONSUCESSO|07178-580|DIESEL S10|    03/01/2020|         3,899|           NULL|       R$ / litro|PETROBRAS DISTRIB...|\n",
            "|            SE|            SP|      GUARULHOS|AUTO POSTO SAKAMO...| 49.051.667/0001-02|RODOVIA PRESIDENT...|       S/N|KM 210,5-SENT SP/RJ|  BONSUCESSO|07178-580|       GNV|    03/01/2020|         2,995|           NULL|          R$ / m³|PETROBRAS DISTRIB...|\n",
            "|            NE|            BA|       SALVADOR|PETROBRAS DISTRIB...| 34.274.233/0015-08|   RUA EDISTIO PONDE|       474|               NULL|       STIEP|41770-395|  GASOLINA|    03/01/2020|          4,69|         4,1743|       R$ / litro|PETROBRAS DISTRIB...|\n",
            "|            NE|            BA|       SALVADOR|PETROBRAS DISTRIB...| 34.274.233/0015-08|   RUA EDISTIO PONDE|       474|               NULL|       STIEP|41770-395|    ETANOL|    03/01/2020|          3,68|         3,0162|       R$ / litro|PETROBRAS DISTRIB...|\n",
            "|            NE|            BA|       SALVADOR|PETROBRAS DISTRIB...| 34.274.233/0015-08|   RUA EDISTIO PONDE|       474|               NULL|       STIEP|41770-395|DIESEL S10|    03/01/2020|          3,78|         3,5403|       R$ / litro|PETROBRAS DISTRIB...|\n",
            "|            NE|            BA|       SALVADOR|PETROBRAS DISTRIB...| 34.274.233/0015-08|   RUA EDISTIO PONDE|       474|               NULL|       STIEP|41770-395|       GNV|    03/01/2020|          3,15|         2,7419|          R$ / m³|PETROBRAS DISTRIB...|\n",
            "|             S|            PR|    PATO BRANCO|SANTOS & MERLO LTDA.| 79.854.667/0001-01|       RUA TOCANTINS|      2535|               NULL|      CENTRO|85501-010|  GASOLINA|    03/01/2020|          4,46|           NULL|       R$ / litro|              RODOIL|\n",
            "|             S|            PR|    PATO BRANCO|SANTOS & MERLO LTDA.| 79.854.667/0001-01|       RUA TOCANTINS|      2535|               NULL|      CENTRO|85501-010|    ETANOL|    03/01/2020|          3,26|           NULL|       R$ / litro|              RODOIL|\n",
            "|             S|            PR|    PATO BRANCO|SANTOS & MERLO LTDA.| 79.854.667/0001-01|       RUA TOCANTINS|      2535|               NULL|      CENTRO|85501-010|DIESEL S10|    03/01/2020|          3,69|           NULL|       R$ / litro|              RODOIL|\n",
            "|             N|            AC|CRUZEIRO DO SUL|CARDINAL E OLIVEI...| 03.608.766/0005-75|AVENIDA BOULEVARD...|      1031|               NULL|      CENTRO|69980-000|  GASOLINA|    03/01/2020|           5,2|           NULL|       R$ / litro|PETROBRAS DISTRIB...|\n",
            "|             N|            AC|CRUZEIRO DO SUL|CARDINAL E OLIVEI...| 03.608.766/0005-75|AVENIDA BOULEVARD...|      1031|               NULL|      CENTRO|69980-000|    DIESEL|    03/01/2020|          4,85|           NULL|       R$ / litro|PETROBRAS DISTRIB...|\n",
            "|             N|            AC|CRUZEIRO DO SUL|CARDINAL E OLIVEI...| 03.608.766/0005-75|AVENIDA BOULEVARD...|      1031|               NULL|      CENTRO|69980-000|DIESEL S10|    03/01/2020|          4,95|           NULL|       R$ / litro|PETROBRAS DISTRIB...|\n",
            "|             N|            AC|CRUZEIRO DO SUL|CARDINAL E OLIVEI...| 03.608.766/0006-56|AVENIDA 25 DE AGOSTO|      1350|               NULL|25 DE AGOSTO|69980-000|  GASOLINA|    03/01/2020|           5,2|           NULL|       R$ / litro|PETROBRAS DISTRIB...|\n",
            "|             N|            AC|CRUZEIRO DO SUL|CARDINAL E OLIVEI...| 03.608.766/0006-56|AVENIDA 25 DE AGOSTO|      1350|               NULL|25 DE AGOSTO|69980-000|    DIESEL|    03/01/2020|          4,85|           NULL|       R$ / litro|PETROBRAS DISTRIB...|\n",
            "|             N|            AC|CRUZEIRO DO SUL|CARDINAL E OLIVEI...| 03.608.766/0006-56|AVENIDA 25 DE AGOSTO|      1350|               NULL|25 DE AGOSTO|69980-000|DIESEL S10|    03/01/2020|          4,95|           NULL|       R$ / litro|PETROBRAS DISTRIB...|\n",
            "|             N|            AC|CRUZEIRO DO SUL|CARDINAL E OLIVEI...| 03.608.766/0004-94|AVENIDA LAURO MULLER|       943|               NULL|  JOÃO ALVES|69980-000|  GASOLINA|    03/01/2020|           5,2|           NULL|       R$ / litro|              BRANCA|\n",
            "|             N|            AC|CRUZEIRO DO SUL|CARDINAL E OLIVEI...| 03.608.766/0004-94|AVENIDA LAURO MULLER|       943|               NULL|  JOÃO ALVES|69980-000|    DIESEL|    03/01/2020|          4,85|           NULL|       R$ / litro|              BRANCA|\n",
            "|             N|            AC|CRUZEIRO DO SUL|CARDINAL E OLIVEI...| 03.608.766/0004-94|AVENIDA LAURO MULLER|       943|               NULL|  JOÃO ALVES|69980-000|DIESEL S10|    03/01/2020|          4,95|           NULL|       R$ / litro|              BRANCA|\n",
            "+--------------+--------------+---------------+--------------------+-------------------+--------------------+----------+-------------------+------------+---------+----------+--------------+--------------+---------------+-----------------+--------------------+\n",
            "only showing top 20 rows\n",
            "\n"
          ]
        }
      ]
    },
    {
      "cell_type": "code",
      "source": [
        "df_1_semestre.count()\n"
      ],
      "metadata": {
        "colab": {
          "base_uri": "https://localhost:8080/"
        },
        "id": "WLb0r_6y1XCv",
        "outputId": "23f3df7b-3901-425b-e88b-925363a790d0"
      },
      "execution_count": 10,
      "outputs": [
        {
          "output_type": "execute_result",
          "data": {
            "text/plain": [
              "496663"
            ]
          },
          "metadata": {},
          "execution_count": 10
        }
      ]
    },
    {
      "cell_type": "code",
      "source": [
        "df_2_semestre.count()"
      ],
      "metadata": {
        "colab": {
          "base_uri": "https://localhost:8080/"
        },
        "id": "U1xYSQ4l1W7j",
        "outputId": "b055e75d-b68f-4000-fce1-ca0715ee4857"
      },
      "execution_count": 11,
      "outputs": [
        {
          "output_type": "execute_result",
          "data": {
            "text/plain": [
              "222637"
            ]
          },
          "metadata": {},
          "execution_count": 11
        }
      ]
    },
    {
      "cell_type": "code",
      "source": [
        "#Conferindo o tamanho do dataset\n",
        "df_precos_2020.count()"
      ],
      "metadata": {
        "colab": {
          "base_uri": "https://localhost:8080/"
        },
        "id": "GnP4n00OxpgU",
        "outputId": "f2fb978b-545c-498b-958f-aeee71f05235"
      },
      "execution_count": 12,
      "outputs": [
        {
          "output_type": "execute_result",
          "data": {
            "text/plain": [
              "719300"
            ]
          },
          "metadata": {},
          "execution_count": 12
        }
      ]
    },
    {
      "cell_type": "code",
      "source": [
        "#Alterando o nome das colunas que tem espaço e usando _ no lugar\n",
        "current_columns = df_precos_2020.columns # Returns list of columns as python list\n",
        "new_columns = list(map(lambda item : item.replace(\" \",\"_\").upper(),current_columns))\n"
      ],
      "metadata": {
        "id": "2QJf5fU2FSqI"
      },
      "execution_count": 13,
      "outputs": []
    },
    {
      "cell_type": "code",
      "source": [
        "#Alterando os nomes pelo nome new_columns com _ no lugar de espaços para facilitar nas chamadas de funçoes\n",
        "from functools import reduce\n",
        "final_df = reduce(lambda data, idx: data.withColumnRenamed(current_columns[idx], new_columns[idx]), range(len(current_columns)), df_precos_2020)\n",
        "\n",
        "final_df.printSchema()"
      ],
      "metadata": {
        "colab": {
          "base_uri": "https://localhost:8080/"
        },
        "id": "X3zNNFF4Ff_g",
        "outputId": "32829136-018a-46e6-8ec1-e0124e33f9b9"
      },
      "execution_count": 14,
      "outputs": [
        {
          "output_type": "stream",
          "name": "stdout",
          "text": [
            "root\n",
            " |-- REGIAO_-_SIGLA: string (nullable = true)\n",
            " |-- ESTADO_-_SIGLA: string (nullable = true)\n",
            " |-- MUNICIPIO: string (nullable = true)\n",
            " |-- REVENDA: string (nullable = true)\n",
            " |-- CNPJ_DA_REVENDA: string (nullable = true)\n",
            " |-- NOME_DA_RUA: string (nullable = true)\n",
            " |-- NUMERO_RUA: string (nullable = true)\n",
            " |-- COMPLEMENTO: string (nullable = true)\n",
            " |-- BAIRRO: string (nullable = true)\n",
            " |-- CEP: string (nullable = true)\n",
            " |-- PRODUTO: string (nullable = true)\n",
            " |-- DATA_DA_COLETA: string (nullable = true)\n",
            " |-- VALOR_DE_VENDA: string (nullable = true)\n",
            " |-- VALOR_DE_COMPRA: string (nullable = true)\n",
            " |-- UNIDADE_DE_MEDIDA: string (nullable = true)\n",
            " |-- BANDEIRA: string (nullable = true)\n",
            "\n"
          ]
        }
      ]
    },
    {
      "cell_type": "code",
      "source": [
        "#Substituição de vírgulas por ponto nos valores numéricos para conversão do tipo string para float\n",
        "from pyspark.sql.functions import translate\n",
        "final_df = final_df.withColumn('VALOR_DE_VENDA', translate('VALOR_DE_VENDA', ',', '.'))"
      ],
      "metadata": {
        "id": "y0rQNIS9NECD"
      },
      "execution_count": 15,
      "outputs": []
    },
    {
      "cell_type": "code",
      "source": [
        "#Alteração para float da coluna VALOR_DE_VENDA\n",
        "from pyspark.sql.types import FloatType,DateType\n",
        "\n",
        "final_df2 = final_df.withColumn(\"VALOR_DE_VENDA\" ,final_df[\"VALOR_DE_VENDA\"].cast(FloatType()))\n",
        "            #        .withColumn(\"DATA_DA_COLETA\",final_df[\"DATA_DA_COLETA\"].cast(DateType()))\n",
        "\n",
        "final_df2.printSchema()"
      ],
      "metadata": {
        "colab": {
          "base_uri": "https://localhost:8080/"
        },
        "id": "tDOVUb5HyIIH",
        "outputId": "459c4616-79e5-477c-af2b-acecbde33f2d"
      },
      "execution_count": 16,
      "outputs": [
        {
          "output_type": "stream",
          "name": "stdout",
          "text": [
            "root\n",
            " |-- REGIAO_-_SIGLA: string (nullable = true)\n",
            " |-- ESTADO_-_SIGLA: string (nullable = true)\n",
            " |-- MUNICIPIO: string (nullable = true)\n",
            " |-- REVENDA: string (nullable = true)\n",
            " |-- CNPJ_DA_REVENDA: string (nullable = true)\n",
            " |-- NOME_DA_RUA: string (nullable = true)\n",
            " |-- NUMERO_RUA: string (nullable = true)\n",
            " |-- COMPLEMENTO: string (nullable = true)\n",
            " |-- BAIRRO: string (nullable = true)\n",
            " |-- CEP: string (nullable = true)\n",
            " |-- PRODUTO: string (nullable = true)\n",
            " |-- DATA_DA_COLETA: string (nullable = true)\n",
            " |-- VALOR_DE_VENDA: float (nullable = true)\n",
            " |-- VALOR_DE_COMPRA: string (nullable = true)\n",
            " |-- UNIDADE_DE_MEDIDA: string (nullable = true)\n",
            " |-- BANDEIRA: string (nullable = true)\n",
            "\n"
          ]
        }
      ]
    },
    {
      "cell_type": "code",
      "source": [
        "final_df2.show(30)"
      ],
      "metadata": {
        "colab": {
          "base_uri": "https://localhost:8080/"
        },
        "id": "G-PAiSy33vnA",
        "outputId": "721c32b1-a2e0-4e38-bdac-919648ca0227"
      },
      "execution_count": 17,
      "outputs": [
        {
          "output_type": "stream",
          "name": "stdout",
          "text": [
            "+--------------+--------------+---------------+--------------------+-------------------+--------------------+----------+-------------------+--------------------+---------+----------+--------------+--------------+---------------+-----------------+--------------------+\n",
            "|REGIAO_-_SIGLA|ESTADO_-_SIGLA|      MUNICIPIO|             REVENDA|    CNPJ_DA_REVENDA|         NOME_DA_RUA|NUMERO_RUA|        COMPLEMENTO|              BAIRRO|      CEP|   PRODUTO|DATA_DA_COLETA|VALOR_DE_VENDA|VALOR_DE_COMPRA|UNIDADE_DE_MEDIDA|            BANDEIRA|\n",
            "+--------------+--------------+---------------+--------------------+-------------------+--------------------+----------+-------------------+--------------------+---------+----------+--------------+--------------+---------------+-----------------+--------------------+\n",
            "|            SE|            SP|      GUARULHOS|AUTO POSTO SAKAMO...| 49.051.667/0001-02|RODOVIA PRESIDENT...|       S/N|KM 210,5-SENT SP/RJ|          BONSUCESSO|07178-580|  GASOLINA|    03/01/2020|         4.399|           NULL|       R$ / litro|PETROBRAS DISTRIB...|\n",
            "|            SE|            SP|      GUARULHOS|AUTO POSTO SAKAMO...| 49.051.667/0001-02|RODOVIA PRESIDENT...|       S/N|KM 210,5-SENT SP/RJ|          BONSUCESSO|07178-580|    ETANOL|    03/01/2020|         3.199|           NULL|       R$ / litro|PETROBRAS DISTRIB...|\n",
            "|            SE|            SP|      GUARULHOS|AUTO POSTO SAKAMO...| 49.051.667/0001-02|RODOVIA PRESIDENT...|       S/N|KM 210,5-SENT SP/RJ|          BONSUCESSO|07178-580|DIESEL S10|    03/01/2020|         3.899|           NULL|       R$ / litro|PETROBRAS DISTRIB...|\n",
            "|            SE|            SP|      GUARULHOS|AUTO POSTO SAKAMO...| 49.051.667/0001-02|RODOVIA PRESIDENT...|       S/N|KM 210,5-SENT SP/RJ|          BONSUCESSO|07178-580|       GNV|    03/01/2020|         2.995|           NULL|          R$ / m³|PETROBRAS DISTRIB...|\n",
            "|            NE|            BA|       SALVADOR|PETROBRAS DISTRIB...| 34.274.233/0015-08|   RUA EDISTIO PONDE|       474|               NULL|               STIEP|41770-395|  GASOLINA|    03/01/2020|          4.69|         4,1743|       R$ / litro|PETROBRAS DISTRIB...|\n",
            "|            NE|            BA|       SALVADOR|PETROBRAS DISTRIB...| 34.274.233/0015-08|   RUA EDISTIO PONDE|       474|               NULL|               STIEP|41770-395|    ETANOL|    03/01/2020|          3.68|         3,0162|       R$ / litro|PETROBRAS DISTRIB...|\n",
            "|            NE|            BA|       SALVADOR|PETROBRAS DISTRIB...| 34.274.233/0015-08|   RUA EDISTIO PONDE|       474|               NULL|               STIEP|41770-395|DIESEL S10|    03/01/2020|          3.78|         3,5403|       R$ / litro|PETROBRAS DISTRIB...|\n",
            "|            NE|            BA|       SALVADOR|PETROBRAS DISTRIB...| 34.274.233/0015-08|   RUA EDISTIO PONDE|       474|               NULL|               STIEP|41770-395|       GNV|    03/01/2020|          3.15|         2,7419|          R$ / m³|PETROBRAS DISTRIB...|\n",
            "|             S|            PR|    PATO BRANCO|SANTOS & MERLO LTDA.| 79.854.667/0001-01|       RUA TOCANTINS|      2535|               NULL|              CENTRO|85501-010|  GASOLINA|    03/01/2020|          4.46|           NULL|       R$ / litro|              RODOIL|\n",
            "|             S|            PR|    PATO BRANCO|SANTOS & MERLO LTDA.| 79.854.667/0001-01|       RUA TOCANTINS|      2535|               NULL|              CENTRO|85501-010|    ETANOL|    03/01/2020|          3.26|           NULL|       R$ / litro|              RODOIL|\n",
            "|             S|            PR|    PATO BRANCO|SANTOS & MERLO LTDA.| 79.854.667/0001-01|       RUA TOCANTINS|      2535|               NULL|              CENTRO|85501-010|DIESEL S10|    03/01/2020|          3.69|           NULL|       R$ / litro|              RODOIL|\n",
            "|             N|            AC|CRUZEIRO DO SUL|CARDINAL E OLIVEI...| 03.608.766/0005-75|AVENIDA BOULEVARD...|      1031|               NULL|              CENTRO|69980-000|  GASOLINA|    03/01/2020|           5.2|           NULL|       R$ / litro|PETROBRAS DISTRIB...|\n",
            "|             N|            AC|CRUZEIRO DO SUL|CARDINAL E OLIVEI...| 03.608.766/0005-75|AVENIDA BOULEVARD...|      1031|               NULL|              CENTRO|69980-000|    DIESEL|    03/01/2020|          4.85|           NULL|       R$ / litro|PETROBRAS DISTRIB...|\n",
            "|             N|            AC|CRUZEIRO DO SUL|CARDINAL E OLIVEI...| 03.608.766/0005-75|AVENIDA BOULEVARD...|      1031|               NULL|              CENTRO|69980-000|DIESEL S10|    03/01/2020|          4.95|           NULL|       R$ / litro|PETROBRAS DISTRIB...|\n",
            "|             N|            AC|CRUZEIRO DO SUL|CARDINAL E OLIVEI...| 03.608.766/0006-56|AVENIDA 25 DE AGOSTO|      1350|               NULL|        25 DE AGOSTO|69980-000|  GASOLINA|    03/01/2020|           5.2|           NULL|       R$ / litro|PETROBRAS DISTRIB...|\n",
            "|             N|            AC|CRUZEIRO DO SUL|CARDINAL E OLIVEI...| 03.608.766/0006-56|AVENIDA 25 DE AGOSTO|      1350|               NULL|        25 DE AGOSTO|69980-000|    DIESEL|    03/01/2020|          4.85|           NULL|       R$ / litro|PETROBRAS DISTRIB...|\n",
            "|             N|            AC|CRUZEIRO DO SUL|CARDINAL E OLIVEI...| 03.608.766/0006-56|AVENIDA 25 DE AGOSTO|      1350|               NULL|        25 DE AGOSTO|69980-000|DIESEL S10|    03/01/2020|          4.95|           NULL|       R$ / litro|PETROBRAS DISTRIB...|\n",
            "|             N|            AC|CRUZEIRO DO SUL|CARDINAL E OLIVEI...| 03.608.766/0004-94|AVENIDA LAURO MULLER|       943|               NULL|          JOÃO ALVES|69980-000|  GASOLINA|    03/01/2020|           5.2|           NULL|       R$ / litro|              BRANCA|\n",
            "|             N|            AC|CRUZEIRO DO SUL|CARDINAL E OLIVEI...| 03.608.766/0004-94|AVENIDA LAURO MULLER|       943|               NULL|          JOÃO ALVES|69980-000|    DIESEL|    03/01/2020|          4.85|           NULL|       R$ / litro|              BRANCA|\n",
            "|             N|            AC|CRUZEIRO DO SUL|CARDINAL E OLIVEI...| 03.608.766/0004-94|AVENIDA LAURO MULLER|       943|               NULL|          JOÃO ALVES|69980-000|DIESEL S10|    03/01/2020|          4.95|           NULL|       R$ / litro|              BRANCA|\n",
            "|             N|            AC|CRUZEIRO DO SUL|L & S COMÉRCIO VA...| 05.793.177/0002-97|MARGEM ESQUERDA D...|       S/N|    PORTO DO ATERRO|               LAGOA|69980-000|  GASOLINA|    03/01/2020|          4.98|           NULL|       R$ / litro|PETROBRAS DISTRIB...|\n",
            "|             N|            AC|CRUZEIRO DO SUL|L & S COMÉRCIO VA...| 05.793.177/0002-97|MARGEM ESQUERDA D...|       S/N|    PORTO DO ATERRO|               LAGOA|69980-000|    DIESEL|    03/01/2020|          4.85|           NULL|       R$ / litro|PETROBRAS DISTRIB...|\n",
            "|             N|            AC|CRUZEIRO DO SUL|L & S COMÉRCIO VA...| 05.793.177/0002-97|MARGEM ESQUERDA D...|       S/N|    PORTO DO ATERRO|               LAGOA|69980-000|DIESEL S10|    03/01/2020|          4.95|           NULL|       R$ / litro|PETROBRAS DISTRIB...|\n",
            "|             N|            AC|CRUZEIRO DO SUL|L & S COMÉRCIO VA...| 05.793.177/0003-78|        RUA TARAUACA|       400|               NULL|               COHAB|69980-000|  GASOLINA|    03/01/2020|          4.98|           NULL|       R$ / litro|PETROBRAS DISTRIB...|\n",
            "|             N|            AC|CRUZEIRO DO SUL|L & S COMÉRCIO VA...| 05.793.177/0003-78|        RUA TARAUACA|       400|               NULL|               COHAB|69980-000|    DIESEL|    03/01/2020|          4.85|           NULL|       R$ / litro|PETROBRAS DISTRIB...|\n",
            "|             N|            AC|CRUZEIRO DO SUL|L & S COMÉRCIO VA...| 05.793.177/0003-78|        RUA TARAUACA|       400|               NULL|               COHAB|69980-000|DIESEL S10|    03/01/2020|          4.95|           NULL|       R$ / litro|PETROBRAS DISTRIB...|\n",
            "|             N|            AC|CRUZEIRO DO SUL|E. D. SILVA & FIL...| 04.096.504/0001-08| MARGEM ESQUERDA ...|       S/N|          FLUTUANTE|              CENTRO|69980-000|  GASOLINA|    03/01/2020|          5.14|           NULL|       R$ / litro|              BRANCA|\n",
            "|             N|            AC|     RIO BRANCO|AUTO POSTO ISAURA...| 04.594.586/0001-10|  RUA ISAURA PARENTE|      1412|               NULL|ESTACAO EXPERIMENTAL|69918-216|  GASOLINA|    02/01/2020|          4.89|           NULL|       R$ / litro|PETROBRAS DISTRIB...|\n",
            "|             N|            AC|     RIO BRANCO|AUTO POSTO ISAURA...| 04.594.586/0001-10|  RUA ISAURA PARENTE|      1412|               NULL|ESTACAO EXPERIMENTAL|69918-216|    ETANOL|    02/01/2020|          3.95|           NULL|       R$ / litro|PETROBRAS DISTRIB...|\n",
            "|             N|            AC|     RIO BRANCO|AUTO POSTO ISAURA...| 04.594.586/0001-10|  RUA ISAURA PARENTE|      1412|               NULL|ESTACAO EXPERIMENTAL|69918-216|    DIESEL|    02/01/2020|          4.52|           NULL|       R$ / litro|PETROBRAS DISTRIB...|\n",
            "+--------------+--------------+---------------+--------------------+-------------------+--------------------+----------+-------------------+--------------------+---------+----------+--------------+--------------+---------------+-----------------+--------------------+\n",
            "only showing top 30 rows\n",
            "\n"
          ]
        }
      ]
    },
    {
      "cell_type": "code",
      "source": [
        "#Média de valor de venda da gasolina no inicio do ano de 2020\n",
        "final_df2.groupBy('DATA_DA_COLETA','PRODUTO')\\\n",
        "          .avg('VALOR_DE_VENDA')\\\n",
        "          .select('avg(VALOR_DE_VENDA)','DATA_DA_COLETA','PRODUTO')\\\n",
        "          .filter(col('PRODUTO')==\"GASOLINA\")\\\n",
        "          .orderBy('DATA_DA_COLETA').show(1)\n"
      ],
      "metadata": {
        "colab": {
          "base_uri": "https://localhost:8080/"
        },
        "id": "V_KpIciuzYEI",
        "outputId": "bda87f00-407d-4b80-eef7-515447722182"
      },
      "execution_count": 18,
      "outputs": [
        {
          "output_type": "stream",
          "name": "stdout",
          "text": [
            "+-------------------+--------------+--------+\n",
            "|avg(VALOR_DE_VENDA)|DATA_DA_COLETA| PRODUTO|\n",
            "+-------------------+--------------+--------+\n",
            "|  4.596277451640025|    01/01/2020|GASOLINA|\n",
            "+-------------------+--------------+--------+\n",
            "only showing top 1 row\n",
            "\n"
          ]
        }
      ]
    },
    {
      "cell_type": "code",
      "source": [
        "#Média do valor de venda da gasolina no final do ano de 2020\n",
        "final_df2.groupBy('DATA_DA_COLETA','PRODUTO')\\\n",
        "          .avg('VALOR_DE_VENDA')\\\n",
        "          .select('avg(VALOR_DE_VENDA)','DATA_DA_COLETA','PRODUTO')\\\n",
        "          .sort(col('DATA_DA_COLETA').desc())\\\n",
        "          .filter(col('DATA_DA_COLETA')==\"31/12/2020\")\\\n",
        "          .filter(col('PRODUTO')==\"GASOLINA\")\\\n",
        "          .show(1)\n"
      ],
      "metadata": {
        "colab": {
          "base_uri": "https://localhost:8080/"
        },
        "id": "MGJsokw_0bZa",
        "outputId": "8540f74c-ce9c-4817-d6e2-4a6522a3aebd"
      },
      "execution_count": 19,
      "outputs": [
        {
          "output_type": "stream",
          "name": "stdout",
          "text": [
            "+-------------------+--------------+--------+\n",
            "|avg(VALOR_DE_VENDA)|DATA_DA_COLETA| PRODUTO|\n",
            "+-------------------+--------------+--------+\n",
            "|  4.410865641351956|    31/12/2020|GASOLINA|\n",
            "+-------------------+--------------+--------+\n",
            "\n"
          ]
        }
      ]
    },
    {
      "cell_type": "code",
      "source": [
        "#Dados de preço de combustivel dos EUA\n",
        "df_preco_usa = spark.read.csv(path='drive/MyDrive/Arquivos/PET_PRI_GND_DCUS_NUS_W.csv',header=True,inferSchema=True,sep = ',')\n",
        "df_preco_usa = df_preco_usa.toDF('DATA', 'TODOS_TIPOS_FORMULA', 'TODOS_TIPOS_CONVENCIONAL', 'TODOS_TIPOS_REFORMULADA', 'REGULAR_TODOS_TIPOS','REGULAR_CONVENCIONAL',\n",
        "        'REGULAR_REFORMULADA','MEDIA_TODAS_FORMULAS', 'MEDIA_CONVENCIONAL', 'MEDIA_REFORMULADA', 'PREMIUM_TODAS_FORMULAS', 'PREMIUM_CONVENCIONAL',\n",
        "        'PREMIUM_REFORMULADA' , 'DIESEL')"
      ],
      "metadata": {
        "id": "MO6oQOE80ui_"
      },
      "execution_count": 20,
      "outputs": []
    },
    {
      "cell_type": "code",
      "source": [
        "#Primerias 30 linhas dos diferentes tipos de gasolina vendidos nos EUA (em dólares por galão)\n",
        "df_preco_usa.show(30)"
      ],
      "metadata": {
        "colab": {
          "base_uri": "https://localhost:8080/"
        },
        "id": "TNJoTAs7Yr2U",
        "outputId": "7b85f11c-4a40-472b-9254-7bbc6f432462"
      },
      "execution_count": 21,
      "outputs": [
        {
          "output_type": "stream",
          "name": "stdout",
          "text": [
            "+----------+-------------------+------------------------+-----------------------+-------------------+--------------------+-------------------+--------------------+------------------+-----------------+----------------------+--------------------+-------------------+------+\n",
            "|      DATA|TODOS_TIPOS_FORMULA|TODOS_TIPOS_CONVENCIONAL|TODOS_TIPOS_REFORMULADA|REGULAR_TODOS_TIPOS|REGULAR_CONVENCIONAL|REGULAR_REFORMULADA|MEDIA_TODAS_FORMULAS|MEDIA_CONVENCIONAL|MEDIA_REFORMULADA|PREMIUM_TODAS_FORMULAS|PREMIUM_CONVENCIONAL|PREMIUM_REFORMULADA|DIESEL|\n",
            "+----------+-------------------+------------------------+-----------------------+-------------------+--------------------+-------------------+--------------------+------------------+-----------------+----------------------+--------------------+-------------------+------+\n",
            "|01/02/1995|              1.127|                   1.104|                  1.231|              1.079|               1.063|              1.167|                1.17|             1.159|            1.298|                 1.272|                1.25|              1.386| 1.104|\n",
            "|01/09/1995|              1.134|                   1.111|                  1.232|              1.086|                1.07|              1.169|               1.177|             1.164|              1.3|                 1.279|               1.256|              1.387| 1.102|\n",
            "|01/16/1995|              1.126|                   1.102|                  1.231|              1.078|               1.062|              1.169|               1.168|             1.155|            1.299|                 1.271|               1.249|              1.385|   1.1|\n",
            "|01/23/1995|              1.132|                    1.11|                  1.226|              1.083|               1.068|              1.165|               1.177|             1.165|            1.296|                 1.277|               1.256|              1.378| 1.095|\n",
            "|01/30/1995|              1.131|                   1.109|                  1.221|              1.083|               1.068|              1.162|               1.176|             1.163|            1.291|                 1.275|               1.255|               1.37|  1.09|\n",
            "|02/06/1995|              1.124|                   1.103|                  1.218|              1.076|               1.062|              1.159|               1.169|             1.157|            1.288|                  1.27|                1.25|              1.368| 1.086|\n",
            "|02/13/1995|              1.121|                   1.099|                  1.218|              1.074|               1.058|              1.158|               1.166|             1.153|            1.285|                 1.265|               1.243|              1.367| 1.088|\n",
            "|02/20/1995|              1.115|                   1.093|                  1.213|              1.067|               1.052|              1.153|                1.16|             1.148|             1.28|                 1.259|               1.239|              1.363| 1.088|\n",
            "|02/27/1995|              1.121|                   1.101|                  1.211|              1.073|                1.06|              1.152|               1.164|             1.153|            1.276|                 1.265|               1.246|              1.362| 1.089|\n",
            "|03/06/1995|              1.123|                   1.103|                  1.209|              1.076|               1.063|              1.149|               1.167|             1.157|            1.275|                 1.263|               1.244|              1.358| 1.089|\n",
            "|03/13/1995|              1.116|                   1.096|                  1.202|              1.069|               1.056|              1.141|               1.158|              1.15|            1.268|                 1.256|               1.238|              1.353| 1.088|\n",
            "|03/20/1995|              1.114|                   1.095|                  1.201|              1.068|               1.055|               1.14|               1.158|             1.149|            1.267|                 1.254|               1.236|              1.351| 1.085|\n",
            "|03/27/1995|              1.121|                   1.102|                  1.198|              1.075|               1.063|              1.138|               1.162|             1.153|            1.265|                 1.259|               1.241|              1.349| 1.088|\n",
            "|04/03/1995|              1.133|                   1.116|                  1.198|              1.087|               1.077|               1.14|               1.174|             1.167|            1.266|                  1.27|               1.255|               1.35| 1.094|\n",
            "|04/10/1995|              1.149|                   1.134|                  1.207|              1.103|               1.094|              1.149|                1.19|             1.186|            1.273|                 1.286|               1.273|              1.357| 1.101|\n",
            "|04/17/1995|              1.163|                   1.149|                  1.215|              1.117|                1.11|               1.16|               1.205|             1.201|            1.278|                   1.3|                1.29|              1.361| 1.106|\n",
            "|04/24/1995|              1.184|                   1.173|                  1.231|              1.138|               1.133|              1.176|               1.226|             1.224|            1.291|                 1.323|               1.315|              1.377| 1.115|\n",
            "|05/01/1995|              1.194|                   1.181|                  1.242|              1.148|               1.141|              1.188|               1.236|             1.234|            1.305|                 1.332|               1.323|              1.389| 1.119|\n",
            "|05/08/1995|              1.216|                   1.204|                  1.261|              1.169|               1.164|              1.205|               1.259|             1.257|            1.324|                 1.356|               1.349|              1.408| 1.126|\n",
            "|05/15/1995|              1.226|                   1.213|                  1.273|              1.179|               1.173|              1.215|               1.269|             1.267|            1.334|                 1.364|               1.357|              1.418| 1.126|\n",
            "|05/22/1995|              1.244|                   1.232|                  1.285|              1.197|               1.191|              1.233|               1.288|             1.285|            1.344|                 1.383|               1.376|              1.429| 1.124|\n",
            "|05/29/1995|              1.246|                   1.234|                  1.291|              1.199|               1.193|              1.239|                1.29|             1.288|            1.351|                 1.386|               1.379|              1.435|  1.13|\n",
            "|06/05/1995|              1.246|                   1.234|                  1.289|              1.199|               1.194|              1.238|                1.29|             1.288|            1.349|                 1.386|                1.38|              1.434| 1.124|\n",
            "|06/12/1995|              1.243|                    1.23|                  1.287|              1.196|                1.19|              1.237|               1.288|             1.286|            1.348|                 1.383|               1.375|              1.433| 1.122|\n",
            "|06/19/1995|              1.236|                   1.224|                  1.285|              1.189|               1.183|              1.234|                1.28|             1.277|            1.345|                 1.376|               1.368|              1.432| 1.117|\n",
            "|06/26/1995|              1.229|                   1.217|                   1.28|              1.182|               1.177|              1.228|               1.273|              1.27|            1.341|                  1.37|               1.363|              1.428| 1.112|\n",
            "|07/03/1995|              1.222|                   1.209|                  1.275|              1.175|               1.169|              1.223|               1.266|             1.262|            1.337|                 1.362|               1.354|              1.423| 1.106|\n",
            "|07/10/1995|              1.212|                     1.2|                  1.269|              1.165|               1.159|              1.216|               1.255|             1.252|            1.333|                 1.352|               1.344|              1.416| 1.103|\n",
            "|07/17/1995|                1.2|                   1.189|                   1.26|              1.153|               1.148|              1.207|               1.244|             1.243|            1.325|                 1.342|               1.335|              1.409| 1.099|\n",
            "|07/24/1995|              1.191|                   1.179|                  1.248|              1.144|               1.138|              1.196|               1.236|             1.234|            1.314|                 1.333|               1.325|              1.397| 1.098|\n",
            "+----------+-------------------+------------------------+-----------------------+-------------------+--------------------+-------------------+--------------------+------------------+-----------------+----------------------+--------------------+-------------------+------+\n",
            "only showing top 30 rows\n",
            "\n"
          ]
        }
      ]
    },
    {
      "cell_type": "code",
      "source": [
        "df_preco_usa.printSchema()"
      ],
      "metadata": {
        "colab": {
          "base_uri": "https://localhost:8080/"
        },
        "id": "BMtfvkxIaMQD",
        "outputId": "0c36792d-691e-4238-b96e-f207a0c251b1"
      },
      "execution_count": 22,
      "outputs": [
        {
          "output_type": "stream",
          "name": "stdout",
          "text": [
            "root\n",
            " |-- DATA: string (nullable = true)\n",
            " |-- TODOS_TIPOS_FORMULA: double (nullable = true)\n",
            " |-- TODOS_TIPOS_CONVENCIONAL: double (nullable = true)\n",
            " |-- TODOS_TIPOS_REFORMULADA: double (nullable = true)\n",
            " |-- REGULAR_TODOS_TIPOS: double (nullable = true)\n",
            " |-- REGULAR_CONVENCIONAL: double (nullable = true)\n",
            " |-- REGULAR_REFORMULADA: double (nullable = true)\n",
            " |-- MEDIA_TODAS_FORMULAS: double (nullable = true)\n",
            " |-- MEDIA_CONVENCIONAL: double (nullable = true)\n",
            " |-- MEDIA_REFORMULADA: double (nullable = true)\n",
            " |-- PREMIUM_TODAS_FORMULAS: double (nullable = true)\n",
            " |-- PREMIUM_CONVENCIONAL: double (nullable = true)\n",
            " |-- PREMIUM_REFORMULADA: double (nullable = true)\n",
            " |-- DIESEL: double (nullable = true)\n",
            "\n"
          ]
        }
      ]
    },
    {
      "cell_type": "code",
      "source": [
        "#Criar dataframe com o preço da gasolina nos eua em dolares por galão\n",
        "preco_inicio_ano_usa = df_preco_usa.groupBy('DATA','MEDIA_CONVENCIONAL')\\\n",
        "          .avg('MEDIA_CONVENCIONAL')\\\n",
        "          .select('avg(MEDIA_CONVENCIONAL)','DATA')\\\n",
        "          .sort(col('DATA').desc())\\\n",
        "          .filter(col('DATA')==\"01/06/2020\")\\\n",
        "          .withColumnRenamed('avg(MEDIA_CONVENCIONAL)', 'MEDIA_CONVENCIONAL') \\\n",
        "        #  .show(1)"
      ],
      "metadata": {
        "id": "bENbRfjaZ4hG"
      },
      "execution_count": 23,
      "outputs": []
    },
    {
      "cell_type": "code",
      "source": [
        "# Dataframe do preço da gasolina no inicio do ano de 2020 em dólares por galão\n",
        "preco_inicio_ano_usa.show(1)"
      ],
      "metadata": {
        "colab": {
          "base_uri": "https://localhost:8080/"
        },
        "id": "KoylLNQ5b-bk",
        "outputId": "4f13b2da-d602-4347-d4e9-088ed4ecb4d8"
      },
      "execution_count": 24,
      "outputs": [
        {
          "output_type": "stream",
          "name": "stdout",
          "text": [
            "+------------------+----------+\n",
            "|MEDIA_CONVENCIONAL|      DATA|\n",
            "+------------------+----------+\n",
            "|             2.833|01/06/2020|\n",
            "+------------------+----------+\n",
            "\n"
          ]
        }
      ]
    },
    {
      "cell_type": "code",
      "source": [
        "preco_inicio_ano_usa.head().MEDIA_CONVENCIONAL * 4.05 /3.79\n",
        "# Media de preço de gasolina por galão no inicio do ano de 2020 multiplicada pelo valor do dólar na época dividida pela quantidade de litros por galão\n"
      ],
      "metadata": {
        "colab": {
          "base_uri": "https://localhost:8080/"
        },
        "id": "fY--7qi_YtjK",
        "outputId": "a59fc598-b179-4b5e-b130-ed1df20a0873"
      },
      "execution_count": 25,
      "outputs": [
        {
          "output_type": "execute_result",
          "data": {
            "text/plain": [
              "3.0273482849604223"
            ]
          },
          "metadata": {},
          "execution_count": 25
        }
      ]
    },
    {
      "cell_type": "code",
      "source": [
        "#Descobrindo preço da gasolina no fim do ano de 2020 e criando um dataframe com esse dado\n",
        "preco_fim_ano_usa = df_preco_usa.groupBy('DATA','MEDIA_CONVENCIONAL')\\\n",
        "          .avg('MEDIA_CONVENCIONAL')\\\n",
        "          .select('avg(MEDIA_CONVENCIONAL)','DATA')\\\n",
        "          .sort(col('DATA').desc())\\\n",
        "          .filter(col('DATA')==\"12/28/2020\")\\\n",
        "          .withColumnRenamed('avg(MEDIA_CONVENCIONAL)', 'MEDIA_CONVENCIONAL')"
      ],
      "metadata": {
        "id": "1NRSnL-Pa5Zb"
      },
      "execution_count": 26,
      "outputs": []
    },
    {
      "cell_type": "code",
      "source": [
        "# Media de preço de gasolina por galão no fim do ano de 2020 multiplicada pelo valor do dólar na época dividida pela quantidade de litros por galão\n",
        "\n",
        "preco_fim_ano_usa.head().MEDIA_CONVENCIONAL * 5.23 /3.79\n"
      ],
      "metadata": {
        "colab": {
          "base_uri": "https://localhost:8080/"
        },
        "id": "pJgRcTcZdZGV",
        "outputId": "8ed0cd92-d551-4191-efa7-35f5c11083c8"
      },
      "execution_count": 27,
      "outputs": [
        {
          "output_type": "execute_result",
          "data": {
            "text/plain": [
              "3.4250290237467023"
            ]
          },
          "metadata": {},
          "execution_count": 27
        }
      ]
    },
    {
      "cell_type": "code",
      "source": [
        "#Descobrir o preço máximo da gasolina no Brasil em reais por litro no ano de 2020\n",
        "final_df2.groupBy('PRODUTO')\\\n",
        "          .max('VALOR_DE_VENDA')\\\n",
        "          .select('max(VALOR_DE_VENDA)','PRODUTO')\\\n",
        "          .filter(col('PRODUTO')==\"GASOLINA\")\\\n",
        "          .show()\n"
      ],
      "metadata": {
        "colab": {
          "base_uri": "https://localhost:8080/"
        },
        "id": "_ziamOiodfHf",
        "outputId": "2aa03023-2950-433b-b772-7f3150efcc1d"
      },
      "execution_count": 28,
      "outputs": [
        {
          "output_type": "stream",
          "name": "stdout",
          "text": [
            "+-------------------+--------+\n",
            "|max(VALOR_DE_VENDA)| PRODUTO|\n",
            "+-------------------+--------+\n",
            "|              5.899|GASOLINA|\n",
            "+-------------------+--------+\n",
            "\n"
          ]
        }
      ]
    },
    {
      "cell_type": "code",
      "source": [
        "#Preço máximo da gasolina em reais por litro após a conversão de doláres por galão no ano de 2020\n",
        "df_preco_usa.createOrReplaceTempView(\"TAB\")\n",
        "spark.sql(\"select max(MEDIA_CONVENCIONAL) from TAB where DATA LIKE '%2020%' \").head()[0]  * 5.23/3.79"
      ],
      "metadata": {
        "colab": {
          "base_uri": "https://localhost:8080/"
        },
        "id": "HfkmOmYLdcnS",
        "outputId": "03afa7f6-9be7-4632-83f6-39b8470267aa"
      },
      "execution_count": 29,
      "outputs": [
        {
          "output_type": "execute_result",
          "data": {
            "text/plain": [
              "3.9093905013192614"
            ]
          },
          "metadata": {},
          "execution_count": 29
        }
      ]
    },
    {
      "cell_type": "code",
      "source": [
        "#Preço máximo do diesel em ambos os datasets\n",
        "spark.sql(\"select max(DIESEL) from TAB where DATA LIKE '%2020%' \").head()[0]"
      ],
      "metadata": {
        "colab": {
          "base_uri": "https://localhost:8080/"
        },
        "id": "zeMy4K3ll6zl",
        "outputId": "31fdf04b-dcff-4361-e996-f29c6d547262"
      },
      "execution_count": 30,
      "outputs": [
        {
          "output_type": "execute_result",
          "data": {
            "text/plain": [
              "3.079"
            ]
          },
          "metadata": {},
          "execution_count": 30
        }
      ]
    },
    {
      "cell_type": "code",
      "source": [
        "preco_max_diesel = spark.sql(\"select max(DATA) as data, MAX(DIESEL) as diesel from TAB WHERE DATA LIKE '%2020%' group by diesel  HAVING DIESEL = MAX(DIESEL) \").orderBy('data')#.show(1)\n",
        "spark.sql(\"select max(DATA) as data, MAX(DIESEL) as diesel from TAB WHERE DATA LIKE '%2020%' group by diesel  HAVING DIESEL = MAX(DIESEL) \").orderBy('data').show(1)"
      ],
      "metadata": {
        "colab": {
          "base_uri": "https://localhost:8080/"
        },
        "id": "Uw_Vy7LY3PqM",
        "outputId": "2785ec9a-67e5-4244-c925-744e416e5923"
      },
      "execution_count": 31,
      "outputs": [
        {
          "output_type": "stream",
          "name": "stdout",
          "text": [
            "+----------+------+\n",
            "|      data|diesel|\n",
            "+----------+------+\n",
            "|01/06/2020| 3.079|\n",
            "+----------+------+\n",
            "only showing top 1 row\n",
            "\n"
          ]
        }
      ]
    },
    {
      "cell_type": "code",
      "source": [
        "#Multiplicando pelo dolar em 1º de junho\n",
        "preco_max_diesel.head().diesel * 4.05 / 3.79"
      ],
      "metadata": {
        "colab": {
          "base_uri": "https://localhost:8080/"
        },
        "id": "uNJky1Hg69WD",
        "outputId": "2d0990ff-1df4-42ec-a8f9-1576562759e6"
      },
      "execution_count": 32,
      "outputs": [
        {
          "output_type": "execute_result",
          "data": {
            "text/plain": [
              "3.2902242744063326"
            ]
          },
          "metadata": {},
          "execution_count": 32
        }
      ]
    },
    {
      "cell_type": "code",
      "source": [
        "#Descobrir o preço máximo do diesel no Brasil em reais por litro no ano de 2020\n",
        "final_df2.groupBy('PRODUTO','DATA_DA_COLETA')\\\n",
        "          .max('VALOR_DE_VENDA')\\\n",
        "          .select('max(VALOR_DE_VENDA)','PRODUTO','DATA_DA_COLETA')\\\n",
        "          .filter(col('PRODUTO')==\"DIESEL\")\\\n",
        "          .show(1)"
      ],
      "metadata": {
        "colab": {
          "base_uri": "https://localhost:8080/"
        },
        "id": "bg14NfrY2rYO",
        "outputId": "d61286c1-b77a-4244-e5c9-4d8a5354271a"
      },
      "execution_count": 33,
      "outputs": [
        {
          "output_type": "stream",
          "name": "stdout",
          "text": [
            "+-------------------+-------+--------------+\n",
            "|max(VALOR_DE_VENDA)|PRODUTO|DATA_DA_COLETA|\n",
            "+-------------------+-------+--------------+\n",
            "|               4.99| DIESEL|    07/01/2020|\n",
            "+-------------------+-------+--------------+\n",
            "only showing top 1 row\n",
            "\n"
          ]
        }
      ]
    },
    {
      "cell_type": "code",
      "source": [],
      "metadata": {
        "id": "jDFj_aWO21z3"
      },
      "execution_count": 33,
      "outputs": []
    }
  ]
}