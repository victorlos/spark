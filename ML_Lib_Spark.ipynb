{
  "nbformat": 4,
  "nbformat_minor": 0,
  "metadata": {
    "colab": {
      "provenance": []
    },
    "kernelspec": {
      "name": "python3",
      "display_name": "Python 3"
    },
    "language_info": {
      "name": "python"
    }
  },
  "cells": [
    {
      "cell_type": "markdown",
      "source": [
        "Instituto Infnet\n",
        "\n",
        "Disciplina Análise de dados com Spark\n",
        "\n",
        "Aluno: Victor Luiz de Oliveira e Silva"
      ],
      "metadata": {
        "id": "Tq4i61k0k1th"
      }
    },
    {
      "cell_type": "code",
      "execution_count": 1,
      "metadata": {
        "colab": {
          "base_uri": "https://localhost:8080/"
        },
        "id": "JZPwLMI3EqzO",
        "outputId": "f05b226c-3c74-4671-9c80-b572e1f70a9e"
      },
      "outputs": [
        {
          "output_type": "stream",
          "name": "stdout",
          "text": [
            "Requirement already satisfied: pyspark in /usr/local/lib/python3.10/dist-packages (3.5.0)\n",
            "Requirement already satisfied: py4j==0.10.9.7 in /usr/local/lib/python3.10/dist-packages (from pyspark) (0.10.9.7)\n"
          ]
        }
      ],
      "source": [
        "!pip install pyspark\n",
        "import pyspark"
      ]
    },
    {
      "cell_type": "code",
      "source": [
        "## Você só vai precisar dessa parte se fizer no Google Colab\n",
        "from google.colab import drive\n",
        "drive.mount('/content/drive')"
      ],
      "metadata": {
        "colab": {
          "base_uri": "https://localhost:8080/"
        },
        "id": "bDuw-xYyKit-",
        "outputId": "9be95a45-b599-4a11-9a12-dc6c8a807187"
      },
      "execution_count": 2,
      "outputs": [
        {
          "output_type": "stream",
          "name": "stdout",
          "text": [
            "Drive already mounted at /content/drive; to attempt to forcibly remount, call drive.mount(\"/content/drive\", force_remount=True).\n"
          ]
        }
      ]
    },
    {
      "cell_type": "code",
      "source": [
        "#Importando bibliotecas necessárias\n",
        "from pyspark.sql import SparkSession\n",
        "from pyspark.sql.functions import count, desc , col, max, when, isnan, min, avg\n",
        "spark = SparkSession.builder.appName(\"Exercicio\").master('local[*]').getOrCreate()"
      ],
      "metadata": {
        "id": "q1FXf26-Okh2"
      },
      "execution_count": 3,
      "outputs": []
    },
    {
      "cell_type": "code",
      "source": [
        "from pyspark.ml import Pipeline\n",
        "from pyspark.ml.classification import RandomForestClassifier\n",
        "from pyspark.ml.feature import IndexToString, StringIndexer, VectorIndexer, OneHotEncoder, StandardScaler, VectorAssembler\n",
        "from pyspark.ml.evaluation import MulticlassClassificationEvaluator"
      ],
      "metadata": {
        "id": "bKi8f_MikK71"
      },
      "execution_count": 4,
      "outputs": []
    },
    {
      "cell_type": "markdown",
      "source": [
        "Este problema que iremos prover uma solução é sobre empregados que podem ou não pedir demissão de uma empresa de TI. Os dados coletados trazem informação de Nível de Educação do funcionário, ano que entrou na empresa, cidade que mora, nível de pagamento, idade, sexo, se já ficou no banco da empresa, anos de experiencia e a se saiu ou não da empresa (label)."
      ],
      "metadata": {
        "id": "Tf0TSCmZbO0n"
      }
    },
    {
      "cell_type": "code",
      "source": [
        "#Carga dos dados\n",
        "df = spark.read.csv(path='drive/MyDrive/Arquivos/Employee.csv',header=True,inferSchema=True,sep = ',')"
      ],
      "metadata": {
        "id": "TRtRFNN4Op-H"
      },
      "execution_count": 5,
      "outputs": []
    },
    {
      "cell_type": "code",
      "source": [
        "#Verificação dos dados\n",
        "df.show()"
      ],
      "metadata": {
        "colab": {
          "base_uri": "https://localhost:8080/"
        },
        "id": "WCqZ-WtwOqcN",
        "outputId": "ea540a34-1bc1-4ba4-89d8-6c5abb1521e1"
      },
      "execution_count": 6,
      "outputs": [
        {
          "output_type": "stream",
          "name": "stdout",
          "text": [
            "+---------+-----------+---------+-----------+---+------+-----------+-------------------------+----------+\n",
            "|Education|JoiningYear|     City|PaymentTier|Age|Gender|EverBenched|ExperienceInCurrentDomain|LeaveOrNot|\n",
            "+---------+-----------+---------+-----------+---+------+-----------+-------------------------+----------+\n",
            "|Bachelors|       2017|Bangalore|          3| 34|  Male|         No|                        0|         0|\n",
            "|Bachelors|       2013|     Pune|          1| 28|Female|         No|                        3|         1|\n",
            "|Bachelors|       2014|New Delhi|          3| 38|Female|         No|                        2|         0|\n",
            "|  Masters|       2016|Bangalore|          3| 27|  Male|         No|                        5|         1|\n",
            "|  Masters|       2017|     Pune|          3| 24|  Male|        Yes|                        2|         1|\n",
            "|Bachelors|       2016|Bangalore|          3| 22|  Male|         No|                        0|         0|\n",
            "|Bachelors|       2015|New Delhi|          3| 38|  Male|         No|                        0|         0|\n",
            "|Bachelors|       2016|Bangalore|          3| 34|Female|         No|                        2|         1|\n",
            "|Bachelors|       2016|     Pune|          3| 23|  Male|         No|                        1|         0|\n",
            "|  Masters|       2017|New Delhi|          2| 37|  Male|         No|                        2|         0|\n",
            "|  Masters|       2012|Bangalore|          3| 27|  Male|         No|                        5|         1|\n",
            "|Bachelors|       2016|     Pune|          3| 34|  Male|         No|                        3|         0|\n",
            "|Bachelors|       2018|     Pune|          3| 32|  Male|        Yes|                        5|         1|\n",
            "|Bachelors|       2016|Bangalore|          3| 39|  Male|         No|                        2|         0|\n",
            "|Bachelors|       2012|Bangalore|          3| 37|  Male|         No|                        4|         0|\n",
            "|Bachelors|       2017|Bangalore|          1| 29|  Male|         No|                        3|         0|\n",
            "|Bachelors|       2014|Bangalore|          3| 34|Female|         No|                        2|         0|\n",
            "|Bachelors|       2014|     Pune|          3| 34|  Male|         No|                        4|         0|\n",
            "|Bachelors|       2015|     Pune|          2| 30|Female|         No|                        0|         1|\n",
            "|Bachelors|       2016|New Delhi|          2| 22|Female|         No|                        0|         1|\n",
            "+---------+-----------+---------+-----------+---+------+-----------+-------------------------+----------+\n",
            "only showing top 20 rows\n",
            "\n"
          ]
        }
      ]
    },
    {
      "cell_type": "code",
      "source": [
        "df.printSchema()"
      ],
      "metadata": {
        "colab": {
          "base_uri": "https://localhost:8080/"
        },
        "id": "GP_iSMoU7-On",
        "outputId": "b4adf11a-7281-4b33-fa08-30d2f755c270"
      },
      "execution_count": 7,
      "outputs": [
        {
          "output_type": "stream",
          "name": "stdout",
          "text": [
            "root\n",
            " |-- Education: string (nullable = true)\n",
            " |-- JoiningYear: integer (nullable = true)\n",
            " |-- City: string (nullable = true)\n",
            " |-- PaymentTier: integer (nullable = true)\n",
            " |-- Age: integer (nullable = true)\n",
            " |-- Gender: string (nullable = true)\n",
            " |-- EverBenched: string (nullable = true)\n",
            " |-- ExperienceInCurrentDomain: integer (nullable = true)\n",
            " |-- LeaveOrNot: integer (nullable = true)\n",
            "\n"
          ]
        }
      ]
    },
    {
      "cell_type": "code",
      "source": [
        "#Transformação de atributos categóricos  em uma única coluna\n",
        "GenderIndex = StringIndexer(inputCols=[\"Gender\"], outputCols=[\"gender_vec\"])\n",
        "EverBenchedIndex = StringIndexer(inputCols=[\"EverBenched\"], outputCols=[\"everbenched_vec\"])\n",
        "CityIndexer = StringIndexer(inputCols=[\"City\"],outputCols=[\"city_vec\"])\n",
        "EducationIndexer = StringIndexer(inputCols=[\"Education\"],outputCols=[\"education_vec\"])\n",
        "LabelIndexer =  StringIndexer(inputCol=\"LeaveOrNot\", outputCol=\"indexedLabel\")\n",
        "feat_cols = [\"city_vec\",\"JoiningYear\",\"PaymentTier\",\"everbenched_vec\",\"Age\",\"education_vec\",\"ExperienceInCurrentDomain\",\"gender_vec\"]\n",
        "#Montando o vetor de features\n",
        "assembler = VectorAssembler(inputCols=feat_cols,outputCol=\"features\")"
      ],
      "metadata": {
        "id": "3NJ6oKD4PLzo"
      },
      "execution_count": 8,
      "outputs": []
    },
    {
      "cell_type": "code",
      "source": [
        "#Divisão dos dados em treino e teste para aplicação do modelo\n",
        "(trainingData, testData) = df.randomSplit([0.7, 0.3])\n",
        "print(trainingData.count(), testData.count())"
      ],
      "metadata": {
        "colab": {
          "base_uri": "https://localhost:8080/"
        },
        "id": "R49-X2V3ss-G",
        "outputId": "3cbe70fb-a13c-4e84-c5d5-4aa4add88f32"
      },
      "execution_count": 9,
      "outputs": [
        {
          "output_type": "stream",
          "name": "stdout",
          "text": [
            "3220 1433\n"
          ]
        }
      ]
    },
    {
      "cell_type": "code",
      "source": [
        "#Iremos utilizar o classificador Random Forest para fazer as classificações\n",
        "rf = RandomForestClassifier(labelCol=\"indexedLabel\", featuresCol=\"features\", numTrees=20)\n"
      ],
      "metadata": {
        "id": "-09oDece-FCR"
      },
      "execution_count": 10,
      "outputs": []
    },
    {
      "cell_type": "code",
      "source": [
        "#Montando o vetor de features\n",
        "pipeline = Pipeline(stages=[GenderIndex,EverBenchedIndex,CityIndexer,EducationIndexer,LabelIndexer,assembler, rf])"
      ],
      "metadata": {
        "id": "R_oMBL09MjfG"
      },
      "execution_count": 11,
      "outputs": []
    },
    {
      "cell_type": "code",
      "source": [
        "#Executando o fit do pipeline nos dados de treino\n",
        "model = pipeline.fit(trainingData)"
      ],
      "metadata": {
        "id": "Cx80rHnHD_rb"
      },
      "execution_count": 12,
      "outputs": []
    },
    {
      "cell_type": "code",
      "source": [
        "predictions = model.transform(testData)\n",
        "predictions.show()"
      ],
      "metadata": {
        "colab": {
          "base_uri": "https://localhost:8080/"
        },
        "id": "qTV-zxCREOXX",
        "outputId": "54703656-d587-4daa-ed25-2452cc9fbcde"
      },
      "execution_count": 13,
      "outputs": [
        {
          "output_type": "stream",
          "name": "stdout",
          "text": [
            "+---------+-----------+---------+-----------+---+------+-----------+-------------------------+----------+----------+---------------+--------+-------------+------------+--------------------+--------------------+--------------------+----------+\n",
            "|Education|JoiningYear|     City|PaymentTier|Age|Gender|EverBenched|ExperienceInCurrentDomain|LeaveOrNot|gender_vec|everbenched_vec|city_vec|education_vec|indexedLabel|            features|       rawPrediction|         probability|prediction|\n",
            "+---------+-----------+---------+-----------+---+------+-----------+-------------------------+----------+----------+---------------+--------+-------------+------------+--------------------+--------------------+--------------------+----------+\n",
            "|Bachelors|       2012|Bangalore|          1| 27|  Male|         No|                        5|         0|       0.0|            0.0|     0.0|          0.0|         0.0|(8,[1,2,4,6],[201...|[14.0198068030814...|[0.70099034015407...|       0.0|\n",
            "|Bachelors|       2012|Bangalore|          1| 28|Female|         No|                        3|         0|       1.0|            0.0|     0.0|          0.0|         0.0|[0.0,2012.0,1.0,0...|[9.15057871781039...|[0.45752893589051...|       1.0|\n",
            "|Bachelors|       2012|Bangalore|          1| 28|Female|        Yes|                        1|         0|       1.0|            1.0|     0.0|          0.0|         0.0|[0.0,2012.0,1.0,1...|[9.13030187591837...|[0.45651509379591...|       1.0|\n",
            "|Bachelors|       2012|Bangalore|          1| 28|  Male|         No|                        3|         0|       0.0|            0.0|     0.0|          0.0|         0.0|(8,[1,2,4,6],[201...|[12.1460032550361...|[0.60730016275180...|       0.0|\n",
            "|Bachelors|       2012|Bangalore|          1| 34|  Male|         No|                        0|         0|       0.0|            0.0|     0.0|          0.0|         0.0|(8,[1,2,4],[2012....|[13.1987020201708...|[0.65993510100854...|       0.0|\n",
            "|Bachelors|       2012|Bangalore|          1| 35|  Male|         No|                        7|         0|       0.0|            0.0|     0.0|          0.0|         0.0|(8,[1,2,4,6],[201...|[15.7541668824851...|[0.78770834412425...|       0.0|\n",
            "|Bachelors|       2012|Bangalore|          3| 22|  Male|         No|                        0|         1|       0.0|            0.0|     0.0|          0.0|         1.0|(8,[1,2,4],[2012....|[16.7708049913241...|[0.83854024956620...|       0.0|\n",
            "|Bachelors|       2012|Bangalore|          3| 23|Female|         No|                        1|         1|       1.0|            0.0|     0.0|          0.0|         1.0|[0.0,2012.0,3.0,0...|[15.3261859427056...|[0.76630929713528...|       0.0|\n",
            "|Bachelors|       2012|Bangalore|          3| 23|  Male|         No|                        1|         0|       0.0|            0.0|     0.0|          0.0|         0.0|(8,[1,2,4,6],[201...|[16.7708049913241...|[0.83854024956620...|       0.0|\n",
            "|Bachelors|       2012|Bangalore|          3| 24|  Male|         No|                        2|         0|       0.0|            0.0|     0.0|          0.0|         0.0|(8,[1,2,4,6],[201...|[16.7708049913241...|[0.83854024956620...|       0.0|\n",
            "|Bachelors|       2012|Bangalore|          3| 24|  Male|         No|                        2|         0|       0.0|            0.0|     0.0|          0.0|         0.0|(8,[1,2,4,6],[201...|[16.7708049913241...|[0.83854024956620...|       0.0|\n",
            "|Bachelors|       2012|Bangalore|          3| 24|  Male|         No|                        2|         0|       0.0|            0.0|     0.0|          0.0|         0.0|(8,[1,2,4,6],[201...|[16.7708049913241...|[0.83854024956620...|       0.0|\n",
            "|Bachelors|       2012|Bangalore|          3| 25|Female|         No|                        3|         0|       1.0|            0.0|     0.0|          0.0|         0.0|[0.0,2012.0,3.0,0...|[15.8838018367453...|[0.79419009183726...|       0.0|\n",
            "|Bachelors|       2012|Bangalore|          3| 25|Female|         No|                        3|         1|       1.0|            0.0|     0.0|          0.0|         1.0|[0.0,2012.0,3.0,0...|[15.8838018367453...|[0.79419009183726...|       0.0|\n",
            "|Bachelors|       2012|Bangalore|          3| 25|Female|        Yes|                        3|         0|       1.0|            1.0|     0.0|          0.0|         0.0|[0.0,2012.0,3.0,1...|[14.7680696181286...|[0.73840348090643...|       0.0|\n",
            "|Bachelors|       2012|Bangalore|          3| 25|  Male|         No|                        3|         0|       0.0|            0.0|     0.0|          0.0|         0.0|(8,[1,2,4,6],[201...|[16.7460679441874...|[0.83730339720937...|       0.0|\n",
            "|Bachelors|       2012|Bangalore|          3| 25|  Male|         No|                        3|         0|       0.0|            0.0|     0.0|          0.0|         0.0|(8,[1,2,4,6],[201...|[16.7460679441874...|[0.83730339720937...|       0.0|\n",
            "|Bachelors|       2012|Bangalore|          3| 25|  Male|         No|                        3|         0|       0.0|            0.0|     0.0|          0.0|         0.0|(8,[1,2,4,6],[201...|[16.7460679441874...|[0.83730339720937...|       0.0|\n",
            "|Bachelors|       2012|Bangalore|          3| 26|Female|         No|                        4|         0|       1.0|            0.0|     0.0|          0.0|         0.0|[0.0,2012.0,3.0,0...|[15.8838018367453...|[0.79419009183726...|       0.0|\n",
            "|Bachelors|       2012|Bangalore|          3| 26|Female|         No|                        4|         0|       1.0|            0.0|     0.0|          0.0|         0.0|[0.0,2012.0,3.0,0...|[15.8838018367453...|[0.79419009183726...|       0.0|\n",
            "+---------+-----------+---------+-----------+---+------+-----------+-------------------------+----------+----------+---------------+--------+-------------+------------+--------------------+--------------------+--------------------+----------+\n",
            "only showing top 20 rows\n",
            "\n"
          ]
        }
      ]
    },
    {
      "cell_type": "code",
      "source": [
        "predictions.select(\"prediction\", \"IndexedLabel\", \"features\").show(20)\n"
      ],
      "metadata": {
        "colab": {
          "base_uri": "https://localhost:8080/"
        },
        "id": "YMXr0Q_bEdCx",
        "outputId": "9d0a297f-7bdd-41f3-eaaf-ad43a5c5ba8f"
      },
      "execution_count": 14,
      "outputs": [
        {
          "output_type": "stream",
          "name": "stdout",
          "text": [
            "+----------+------------+--------------------+\n",
            "|prediction|IndexedLabel|            features|\n",
            "+----------+------------+--------------------+\n",
            "|       0.0|         0.0|(8,[1,2,4,6],[201...|\n",
            "|       1.0|         0.0|[0.0,2012.0,1.0,0...|\n",
            "|       1.0|         0.0|[0.0,2012.0,1.0,1...|\n",
            "|       0.0|         0.0|(8,[1,2,4,6],[201...|\n",
            "|       0.0|         0.0|(8,[1,2,4],[2012....|\n",
            "|       0.0|         0.0|(8,[1,2,4,6],[201...|\n",
            "|       0.0|         1.0|(8,[1,2,4],[2012....|\n",
            "|       0.0|         1.0|[0.0,2012.0,3.0,0...|\n",
            "|       0.0|         0.0|(8,[1,2,4,6],[201...|\n",
            "|       0.0|         0.0|(8,[1,2,4,6],[201...|\n",
            "|       0.0|         0.0|(8,[1,2,4,6],[201...|\n",
            "|       0.0|         0.0|(8,[1,2,4,6],[201...|\n",
            "|       0.0|         0.0|[0.0,2012.0,3.0,0...|\n",
            "|       0.0|         1.0|[0.0,2012.0,3.0,0...|\n",
            "|       0.0|         0.0|[0.0,2012.0,3.0,1...|\n",
            "|       0.0|         0.0|(8,[1,2,4,6],[201...|\n",
            "|       0.0|         0.0|(8,[1,2,4,6],[201...|\n",
            "|       0.0|         0.0|(8,[1,2,4,6],[201...|\n",
            "|       0.0|         0.0|[0.0,2012.0,3.0,0...|\n",
            "|       0.0|         0.0|[0.0,2012.0,3.0,0...|\n",
            "+----------+------------+--------------------+\n",
            "only showing top 20 rows\n",
            "\n"
          ]
        }
      ]
    },
    {
      "cell_type": "code",
      "source": [
        "from pyspark.ml.evaluation import MulticlassClassificationEvaluator\n",
        "\n",
        "# Select (prediction, true label) and compute test error\n",
        "evaluator = MulticlassClassificationEvaluator(\n",
        "    labelCol=\"indexedLabel\", predictionCol=\"prediction\", metricName=\"accuracy\")\n",
        "accuracy = evaluator.evaluate(predictions)\n",
        "print(\"Test Error = %g\" % (1.0 - accuracy))\n",
        "\n",
        "rfModel = model.stages[2]\n",
        "print(rfModel)  # summary only"
      ],
      "metadata": {
        "colab": {
          "base_uri": "https://localhost:8080/"
        },
        "id": "p86a9IhsDK7y",
        "outputId": "3daa07c7-c36d-4e59-d2ec-2d825d3acc7f"
      },
      "execution_count": 15,
      "outputs": [
        {
          "output_type": "stream",
          "name": "stdout",
          "text": [
            "Test Error = 0.183531\n",
            "StringIndexerModel: uid=StringIndexer_c54363bf1b84, handleInvalid=error, numInputCols=1, numOutputCols=1\n"
          ]
        }
      ]
    },
    {
      "cell_type": "code",
      "source": [],
      "metadata": {
        "id": "mukdqWmzSGmE"
      },
      "execution_count": 15,
      "outputs": []
    }
  ]
}